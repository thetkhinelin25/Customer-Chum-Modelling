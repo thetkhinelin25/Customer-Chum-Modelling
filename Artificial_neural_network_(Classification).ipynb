{
  "cells": [
    {
      "cell_type": "markdown",
      "metadata": {
        "id": "lP6JLo1tGNBg"
      },
      "source": [
        "# Artificial Neural Network"
      ]
    },
    {
      "cell_type": "markdown",
      "metadata": {
        "id": "gWZyYmS_UE_L"
      },
      "source": [
        "### Importing the libraries"
      ]
    },
    {
      "cell_type": "code",
      "execution_count": null,
      "metadata": {
        "id": "MxkJoQBkUIHC"
      },
      "outputs": [],
      "source": [
        "import numpy as np\n",
        "import pandas as pd\n",
        "import tensorflow as tf\n",
        "import matplotlib.pyplot as plt"
      ]
    },
    {
      "cell_type": "code",
      "execution_count": null,
      "metadata": {
        "colab": {
          "base_uri": "https://localhost:8080/",
          "height": 35
        },
        "id": "ZaTwK7ojXr2F",
        "outputId": "2958885e-6637-4c48-a0a6-dae22e15cf07"
      },
      "outputs": [
        {
          "output_type": "execute_result",
          "data": {
            "text/plain": [
              "'2.12.0'"
            ],
            "application/vnd.google.colaboratory.intrinsic+json": {
              "type": "string"
            }
          },
          "metadata": {},
          "execution_count": 3
        }
      ],
      "source": [
        "tf.__version__"
      ]
    },
    {
      "cell_type": "markdown",
      "metadata": {
        "id": "1E0Q3aoKUCRX"
      },
      "source": [
        "## Part 1 - Data Preprocessing"
      ]
    },
    {
      "cell_type": "markdown",
      "metadata": {
        "id": "cKWAkFVGUU0Z"
      },
      "source": [
        "### Importing the dataset"
      ]
    },
    {
      "cell_type": "code",
      "execution_count": null,
      "metadata": {
        "id": "MXUkhkMfU4wq"
      },
      "outputs": [],
      "source": [
        "dataset = pd.read_csv('Churn_Modelling.csv')\n",
        "X = dataset.iloc[:, 3:-1].values\n",
        "y = dataset.iloc[:, -1].values"
      ]
    },
    {
      "cell_type": "code",
      "execution_count": null,
      "metadata": {
        "colab": {
          "base_uri": "https://localhost:8080/"
        },
        "id": "VYP9cQTWbzuI",
        "outputId": "6f260488-66c3-4ba6-e790-d17b900709e0"
      },
      "outputs": [
        {
          "output_type": "stream",
          "name": "stdout",
          "text": [
            "[[619 'France' 'Female' ... 1 1 101348.88]\n",
            " [608 'Spain' 'Female' ... 0 1 112542.58]\n",
            " [502 'France' 'Female' ... 1 0 113931.57]\n",
            " ...\n",
            " [709 'France' 'Female' ... 0 1 42085.58]\n",
            " [772 'Germany' 'Male' ... 1 0 92888.52]\n",
            " [792 'France' 'Female' ... 1 0 38190.78]]\n"
          ]
        }
      ],
      "source": [
        "print(X)"
      ]
    },
    {
      "cell_type": "code",
      "execution_count": null,
      "metadata": {
        "colab": {
          "base_uri": "https://localhost:8080/"
        },
        "id": "38vKGE6Nb2RR",
        "outputId": "be7e9701-810a-49b4-f61e-8ccea3f4eb7f"
      },
      "outputs": [
        {
          "output_type": "stream",
          "name": "stdout",
          "text": [
            "[1 0 1 ... 1 1 0]\n"
          ]
        }
      ],
      "source": [
        "print(y)"
      ]
    },
    {
      "cell_type": "code",
      "execution_count": null,
      "metadata": {
        "colab": {
          "base_uri": "https://localhost:8080/"
        },
        "id": "DspjOlaHtS3m",
        "outputId": "031800af-014c-4cbb-f45b-db0730b0dde3"
      },
      "outputs": [
        {
          "output_type": "stream",
          "name": "stdout",
          "text": [
            "      Gender_Female  Gender_Male\n",
            "0                 1            0\n",
            "1                 1            0\n",
            "2                 1            0\n",
            "3                 1            0\n",
            "4                 1            0\n",
            "...             ...          ...\n",
            "9995              0            1\n",
            "9996              0            1\n",
            "9997              1            0\n",
            "9998              0            1\n",
            "9999              1            0\n",
            "\n",
            "[10000 rows x 2 columns]\n"
          ]
        }
      ],
      "source": [
        "gender_column = X[:, 2]\n",
        "data = pd.DataFrame({'Gender': gender_column})\n",
        "encoded_data = pd.get_dummies(data, columns=['Gender'])\n",
        "print(encoded_data)"
      ]
    },
    {
      "cell_type": "code",
      "execution_count": null,
      "metadata": {
        "colab": {
          "base_uri": "https://localhost:8080/"
        },
        "id": "-y6bTUOGtS9g",
        "outputId": "f26fbd72-f31f-45f4-dec1-5549dec71766"
      },
      "outputs": [
        {
          "output_type": "stream",
          "name": "stdout",
          "text": [
            "      Geography_France  Geography_Germany  Geography_Spain\n",
            "0                    1                  0                0\n",
            "1                    0                  0                1\n",
            "2                    1                  0                0\n",
            "3                    1                  0                0\n",
            "4                    0                  0                1\n",
            "...                ...                ...              ...\n",
            "9995                 1                  0                0\n",
            "9996                 1                  0                0\n",
            "9997                 1                  0                0\n",
            "9998                 0                  1                0\n",
            "9999                 1                  0                0\n",
            "\n",
            "[10000 rows x 3 columns]\n"
          ]
        }
      ],
      "source": [
        "geography_column = X[:, 1]\n",
        "data = pd.DataFrame({'Geography': geography_column})\n",
        "encoded_data = pd.get_dummies(data, columns=['Geography'])\n",
        "print(encoded_data)"
      ]
    },
    {
      "cell_type": "markdown",
      "metadata": {
        "id": "N6bQ0UgSU-NJ"
      },
      "source": [
        "### Encoding categorical data"
      ]
    },
    {
      "cell_type": "markdown",
      "metadata": {
        "id": "le5MJreAbW52"
      },
      "source": [
        "One Hot Encoding the \"Gender\" column"
      ]
    },
    {
      "cell_type": "code",
      "execution_count": null,
      "metadata": {
        "id": "PxVKWXxLbczC"
      },
      "outputs": [],
      "source": [
        "from sklearn.compose import ColumnTransformer\n",
        "from sklearn.preprocessing import OneHotEncoder\n",
        "ct_1 = ColumnTransformer(transformers=[('encoder', OneHotEncoder(), [2])], remainder='passthrough')\n",
        "X = np.array(ct_1.fit_transform(X))"
      ]
    },
    {
      "cell_type": "code",
      "execution_count": null,
      "metadata": {
        "colab": {
          "base_uri": "https://localhost:8080/"
        },
        "id": "3CQWtXZrsrQm",
        "outputId": "aeee89b0-f344-452a-e48a-a33b4cfa5f2c"
      },
      "outputs": [
        {
          "output_type": "stream",
          "name": "stdout",
          "text": [
            "[[1.0 0.0 619 ... 1 1 101348.88]\n",
            " [1.0 0.0 608 ... 0 1 112542.58]\n",
            " [1.0 0.0 502 ... 1 0 113931.57]\n",
            " ...\n",
            " [1.0 0.0 709 ... 0 1 42085.58]\n",
            " [0.0 1.0 772 ... 1 0 92888.52]\n",
            " [1.0 0.0 792 ... 1 0 38190.78]]\n"
          ]
        }
      ],
      "source": [
        "print(X)"
      ]
    },
    {
      "cell_type": "markdown",
      "metadata": {
        "id": "CUxGZezpbMcb"
      },
      "source": [
        "One Hot Encoding the \"Geography\" column"
      ]
    },
    {
      "cell_type": "code",
      "execution_count": null,
      "metadata": {
        "id": "AMXC8-KMVirw"
      },
      "outputs": [],
      "source": [
        "ct_2 = ColumnTransformer(transformers=[('encoder', OneHotEncoder(), [3])], remainder='passthrough')\n",
        "X = np.array(ct_2.fit_transform(X))"
      ]
    },
    {
      "cell_type": "code",
      "execution_count": null,
      "metadata": {
        "colab": {
          "base_uri": "https://localhost:8080/"
        },
        "id": "ZcxwEon-b8nV",
        "outputId": "3921cae9-6243-4521-a639-2915db5d36d0"
      },
      "outputs": [
        {
          "output_type": "stream",
          "name": "stdout",
          "text": [
            "[[1.0 0.0 0.0 ... 1 1 101348.88]\n",
            " [0.0 0.0 1.0 ... 0 1 112542.58]\n",
            " [1.0 0.0 0.0 ... 1 0 113931.57]\n",
            " ...\n",
            " [1.0 0.0 0.0 ... 0 1 42085.58]\n",
            " [0.0 1.0 0.0 ... 1 0 92888.52]\n",
            " [1.0 0.0 0.0 ... 1 0 38190.78]]\n"
          ]
        }
      ],
      "source": [
        "print(X)"
      ]
    },
    {
      "cell_type": "markdown",
      "metadata": {
        "id": "vHol938cW8zd"
      },
      "source": [
        "### Splitting the dataset into the Training set and Test set"
      ]
    },
    {
      "cell_type": "code",
      "execution_count": null,
      "metadata": {
        "id": "Z-TDt0Y_XEfc"
      },
      "outputs": [],
      "source": [
        "from sklearn.model_selection import train_test_split\n",
        "X_train, X_test, y_train, y_test = train_test_split(X, y, test_size = 0.2, random_state = 0)"
      ]
    },
    {
      "cell_type": "markdown",
      "metadata": {
        "id": "RE_FcHyfV3TQ"
      },
      "source": [
        "### Feature Scaling"
      ]
    },
    {
      "cell_type": "code",
      "execution_count": null,
      "metadata": {
        "id": "ViCrE00rV8Sk"
      },
      "outputs": [],
      "source": [
        "from sklearn.preprocessing import StandardScaler\n",
        "sc = StandardScaler()\n",
        "X_train = sc.fit_transform(X_train)\n",
        "X_test = sc.transform(X_test)"
      ]
    },
    {
      "cell_type": "markdown",
      "metadata": {
        "id": "-zfEzkRVXIwF"
      },
      "source": [
        "## Part 2 - Building the ANN"
      ]
    },
    {
      "cell_type": "markdown",
      "metadata": {
        "id": "KvdeScabXtlB"
      },
      "source": [
        "### Initializing the ANN"
      ]
    },
    {
      "cell_type": "code",
      "execution_count": null,
      "metadata": {
        "id": "3dtrScHxXQox"
      },
      "outputs": [],
      "source": [
        "ann = tf.keras.models.Sequential()"
      ]
    },
    {
      "cell_type": "markdown",
      "metadata": {
        "id": "rP6urV6SX7kS"
      },
      "source": [
        "### Adding the input layer and the first hidden layer"
      ]
    },
    {
      "cell_type": "markdown",
      "metadata": {
        "id": "sm7ra05xXJE3"
      },
      "source": [
        "\n",
        "\n",
        "*   If we create first hidden layer, the input layer will automatically be created but the neurons in the input layer will be defined based on the input features.\n",
        "\n",
        "\n"
      ]
    },
    {
      "cell_type": "code",
      "execution_count": null,
      "metadata": {
        "id": "bppGycBXYCQr"
      },
      "outputs": [],
      "source": [
        "ann.add(tf.keras.layers.Dense(units=6, activation='relu'))"
      ]
    },
    {
      "cell_type": "markdown",
      "metadata": {
        "id": "BELWAc_8YJze"
      },
      "source": [
        "### Adding the second hidden layer"
      ]
    },
    {
      "cell_type": "code",
      "execution_count": null,
      "metadata": {
        "id": "JneR0u0sYRTd"
      },
      "outputs": [],
      "source": [
        "ann.add(tf.keras.layers.Dense(units=6, activation='relu'))"
      ]
    },
    {
      "cell_type": "markdown",
      "metadata": {
        "id": "OyNEe6RXYcU4"
      },
      "source": [
        "### Adding the output layer"
      ]
    },
    {
      "cell_type": "markdown",
      "metadata": {
        "id": "JOoS8n_mXwO8"
      },
      "source": [
        "\n",
        "\n",
        "*   For Binary class classification, the output layer will only need a single neuron with sigmoid activation function.\n",
        "\n"
      ]
    },
    {
      "cell_type": "code",
      "execution_count": null,
      "metadata": {
        "id": "Cn3x41RBYfvY"
      },
      "outputs": [],
      "source": [
        "ann.add(tf.keras.layers.Dense(units=1, activation='sigmoid'))"
      ]
    },
    {
      "cell_type": "markdown",
      "metadata": {
        "id": "JT4u2S1_Y4WG"
      },
      "source": [
        "## Part 3 - Training the ANN"
      ]
    },
    {
      "cell_type": "markdown",
      "metadata": {
        "id": "8GWlJChhY_ZI"
      },
      "source": [
        "### Compiling the ANN"
      ]
    },
    {
      "cell_type": "markdown",
      "metadata": {
        "id": "PjI6VpbQiwW8"
      },
      "source": [
        "\n",
        "\n",
        "*   The Loss Function for Binary Class classification problem is \"binary_crossentropy\".\n",
        "\n",
        "*   metrics mean evaluating the model. For Binary Class classification, the metrics will be accuracy.\n",
        "\n",
        "\n",
        "*   the optimizer can be used \"adam\" or \"stochastic gradient descent\". Note - if we want to use stochastic gradient descent in optimizer, we have to put this \"keras.optimizers.SGD(learning_rate=0.01)\"\n"
      ]
    },
    {
      "cell_type": "code",
      "execution_count": null,
      "metadata": {
        "id": "fG3RrwDXZEaS"
      },
      "outputs": [],
      "source": [
        "from keras.optimizers import SGD\n",
        "optimizer = SGD(learning_rate=0.01)\n",
        "ann.compile(optimizer = optimizer, loss = 'binary_crossentropy', metrics = ['accuracy'])"
      ]
    },
    {
      "cell_type": "markdown",
      "metadata": {
        "id": "0QR_G5u7ZLSM"
      },
      "source": [
        "### Training the ANN on the Training set"
      ]
    },
    {
      "cell_type": "markdown",
      "metadata": {
        "id": "au2RCOhej4Xv"
      },
      "source": [
        "\n",
        "\n",
        "*   batch_size means the number of samples that we want to use for one iteration to update the weights.\n",
        "\n",
        "*   epochs mean how many iterations do we want to iterate to our model.\n",
        "\n",
        "*   Note - 1 epoch mean one complete set of iteration for all the samples in dataset. So in the following example batch_size = 32, so to complete to run all the samples (for 1 epoch), there will be \"number of sample in X_train/32 = **numbers**\". that \"**numbers**\" will be the number of iteration for 1 epoch.\n",
        "\n",
        "\n",
        "\n",
        "\n"
      ]
    },
    {
      "cell_type": "code",
      "execution_count": null,
      "metadata": {
        "colab": {
          "base_uri": "https://localhost:8080/"
        },
        "id": "nHZ-LKv_ZRb3",
        "outputId": "6d4d7434-fe9f-4e8c-e9f0-c3c3c5a21b03"
      },
      "outputs": [
        {
          "output_type": "stream",
          "name": "stdout",
          "text": [
            "Epoch 1/90\n",
            "250/250 [==============================] - 2s 4ms/step - loss: 0.5583 - accuracy: 0.7728\n",
            "Epoch 2/90\n",
            "250/250 [==============================] - 1s 3ms/step - loss: 0.4995 - accuracy: 0.7962\n",
            "Epoch 3/90\n",
            "250/250 [==============================] - 1s 3ms/step - loss: 0.4863 - accuracy: 0.7962\n",
            "Epoch 4/90\n",
            "250/250 [==============================] - 1s 3ms/step - loss: 0.4783 - accuracy: 0.7962\n",
            "Epoch 5/90\n",
            "250/250 [==============================] - 1s 4ms/step - loss: 0.4723 - accuracy: 0.7962\n",
            "Epoch 6/90\n",
            "250/250 [==============================] - 1s 4ms/step - loss: 0.4673 - accuracy: 0.7970\n",
            "Epoch 7/90\n",
            "250/250 [==============================] - 1s 3ms/step - loss: 0.4629 - accuracy: 0.7974\n",
            "Epoch 8/90\n",
            "250/250 [==============================] - 2s 6ms/step - loss: 0.4590 - accuracy: 0.7979\n",
            "Epoch 9/90\n",
            "250/250 [==============================] - 2s 9ms/step - loss: 0.4553 - accuracy: 0.7977\n",
            "Epoch 10/90\n",
            "250/250 [==============================] - 1s 3ms/step - loss: 0.4520 - accuracy: 0.7975\n",
            "Epoch 11/90\n",
            "250/250 [==============================] - 1s 3ms/step - loss: 0.4489 - accuracy: 0.7975\n",
            "Epoch 12/90\n",
            "250/250 [==============================] - 1s 3ms/step - loss: 0.4462 - accuracy: 0.7976\n",
            "Epoch 13/90\n",
            "250/250 [==============================] - 0s 2ms/step - loss: 0.4439 - accuracy: 0.7991\n",
            "Epoch 14/90\n",
            "250/250 [==============================] - 0s 2ms/step - loss: 0.4416 - accuracy: 0.8002\n",
            "Epoch 15/90\n",
            "250/250 [==============================] - 0s 2ms/step - loss: 0.4396 - accuracy: 0.7995\n",
            "Epoch 16/90\n",
            "250/250 [==============================] - 0s 2ms/step - loss: 0.4377 - accuracy: 0.8004\n",
            "Epoch 17/90\n",
            "250/250 [==============================] - 0s 2ms/step - loss: 0.4358 - accuracy: 0.8014\n",
            "Epoch 18/90\n",
            "250/250 [==============================] - 0s 2ms/step - loss: 0.4340 - accuracy: 0.8012\n",
            "Epoch 19/90\n",
            "250/250 [==============================] - 0s 2ms/step - loss: 0.4324 - accuracy: 0.8015\n",
            "Epoch 20/90\n",
            "250/250 [==============================] - 0s 2ms/step - loss: 0.4309 - accuracy: 0.8020\n",
            "Epoch 21/90\n",
            "250/250 [==============================] - 0s 2ms/step - loss: 0.4297 - accuracy: 0.8037\n",
            "Epoch 22/90\n",
            "250/250 [==============================] - 0s 2ms/step - loss: 0.4283 - accuracy: 0.8036\n",
            "Epoch 23/90\n",
            "250/250 [==============================] - 0s 2ms/step - loss: 0.4271 - accuracy: 0.8064\n",
            "Epoch 24/90\n",
            "250/250 [==============================] - 0s 2ms/step - loss: 0.4260 - accuracy: 0.8069\n",
            "Epoch 25/90\n",
            "250/250 [==============================] - 0s 2ms/step - loss: 0.4250 - accuracy: 0.8085\n",
            "Epoch 26/90\n",
            "250/250 [==============================] - 0s 2ms/step - loss: 0.4240 - accuracy: 0.8099\n",
            "Epoch 27/90\n",
            "250/250 [==============================] - 0s 2ms/step - loss: 0.4231 - accuracy: 0.8115\n",
            "Epoch 28/90\n",
            "250/250 [==============================] - 0s 2ms/step - loss: 0.4222 - accuracy: 0.8133\n",
            "Epoch 29/90\n",
            "250/250 [==============================] - 0s 2ms/step - loss: 0.4213 - accuracy: 0.8164\n",
            "Epoch 30/90\n",
            "250/250 [==============================] - 0s 2ms/step - loss: 0.4203 - accuracy: 0.8167\n",
            "Epoch 31/90\n",
            "250/250 [==============================] - 1s 2ms/step - loss: 0.4195 - accuracy: 0.8177\n",
            "Epoch 32/90\n",
            "250/250 [==============================] - 1s 2ms/step - loss: 0.4185 - accuracy: 0.8194\n",
            "Epoch 33/90\n",
            "250/250 [==============================] - 1s 2ms/step - loss: 0.4177 - accuracy: 0.8211\n",
            "Epoch 34/90\n",
            "250/250 [==============================] - 1s 2ms/step - loss: 0.4167 - accuracy: 0.8214\n",
            "Epoch 35/90\n",
            "250/250 [==============================] - 1s 2ms/step - loss: 0.4159 - accuracy: 0.8238\n",
            "Epoch 36/90\n",
            "250/250 [==============================] - 0s 2ms/step - loss: 0.4151 - accuracy: 0.8241\n",
            "Epoch 37/90\n",
            "250/250 [==============================] - 0s 2ms/step - loss: 0.4144 - accuracy: 0.8257\n",
            "Epoch 38/90\n",
            "250/250 [==============================] - 0s 2ms/step - loss: 0.4136 - accuracy: 0.8278\n",
            "Epoch 39/90\n",
            "250/250 [==============================] - 0s 2ms/step - loss: 0.4129 - accuracy: 0.8275\n",
            "Epoch 40/90\n",
            "250/250 [==============================] - 0s 1ms/step - loss: 0.4123 - accuracy: 0.8290\n",
            "Epoch 41/90\n",
            "250/250 [==============================] - 0s 2ms/step - loss: 0.4116 - accuracy: 0.8317\n",
            "Epoch 42/90\n",
            "250/250 [==============================] - 0s 2ms/step - loss: 0.4108 - accuracy: 0.8305\n",
            "Epoch 43/90\n",
            "250/250 [==============================] - 0s 2ms/step - loss: 0.4103 - accuracy: 0.8310\n",
            "Epoch 44/90\n",
            "250/250 [==============================] - 0s 2ms/step - loss: 0.4097 - accuracy: 0.8319\n",
            "Epoch 45/90\n",
            "250/250 [==============================] - 0s 2ms/step - loss: 0.4091 - accuracy: 0.8326\n",
            "Epoch 46/90\n",
            "250/250 [==============================] - 0s 1ms/step - loss: 0.4086 - accuracy: 0.8332\n",
            "Epoch 47/90\n",
            "250/250 [==============================] - 0s 2ms/step - loss: 0.4080 - accuracy: 0.8331\n",
            "Epoch 48/90\n",
            "250/250 [==============================] - 0s 2ms/step - loss: 0.4076 - accuracy: 0.8338\n",
            "Epoch 49/90\n",
            "250/250 [==============================] - 0s 2ms/step - loss: 0.4071 - accuracy: 0.8338\n",
            "Epoch 50/90\n",
            "250/250 [==============================] - 0s 2ms/step - loss: 0.4064 - accuracy: 0.8336\n",
            "Epoch 51/90\n",
            "250/250 [==============================] - 0s 2ms/step - loss: 0.4062 - accuracy: 0.8344\n",
            "Epoch 52/90\n",
            "250/250 [==============================] - 0s 2ms/step - loss: 0.4056 - accuracy: 0.8346\n",
            "Epoch 53/90\n",
            "250/250 [==============================] - 0s 2ms/step - loss: 0.4052 - accuracy: 0.8349\n",
            "Epoch 54/90\n",
            "250/250 [==============================] - 0s 2ms/step - loss: 0.4047 - accuracy: 0.8347\n",
            "Epoch 55/90\n",
            "250/250 [==============================] - 0s 2ms/step - loss: 0.4043 - accuracy: 0.8344\n",
            "Epoch 56/90\n",
            "250/250 [==============================] - 0s 2ms/step - loss: 0.4038 - accuracy: 0.8354\n",
            "Epoch 57/90\n",
            "250/250 [==============================] - 0s 2ms/step - loss: 0.4034 - accuracy: 0.8355\n",
            "Epoch 58/90\n",
            "250/250 [==============================] - 0s 2ms/step - loss: 0.4029 - accuracy: 0.8360\n",
            "Epoch 59/90\n",
            "250/250 [==============================] - 0s 2ms/step - loss: 0.4022 - accuracy: 0.8370\n",
            "Epoch 60/90\n",
            "250/250 [==============================] - 0s 2ms/step - loss: 0.4018 - accuracy: 0.8365\n",
            "Epoch 61/90\n",
            "250/250 [==============================] - 1s 2ms/step - loss: 0.4011 - accuracy: 0.8365\n",
            "Epoch 62/90\n",
            "250/250 [==============================] - 1s 2ms/step - loss: 0.4003 - accuracy: 0.8370\n",
            "Epoch 63/90\n",
            "250/250 [==============================] - 1s 2ms/step - loss: 0.3994 - accuracy: 0.8367\n",
            "Epoch 64/90\n",
            "250/250 [==============================] - 1s 2ms/step - loss: 0.3985 - accuracy: 0.8376\n",
            "Epoch 65/90\n",
            "250/250 [==============================] - 1s 2ms/step - loss: 0.3975 - accuracy: 0.8386\n",
            "Epoch 66/90\n",
            "250/250 [==============================] - 0s 2ms/step - loss: 0.3965 - accuracy: 0.8397\n",
            "Epoch 67/90\n",
            "250/250 [==============================] - 0s 2ms/step - loss: 0.3954 - accuracy: 0.8401\n",
            "Epoch 68/90\n",
            "250/250 [==============================] - 0s 2ms/step - loss: 0.3944 - accuracy: 0.8404\n",
            "Epoch 69/90\n",
            "250/250 [==============================] - 0s 1ms/step - loss: 0.3933 - accuracy: 0.8420\n",
            "Epoch 70/90\n",
            "250/250 [==============================] - 0s 2ms/step - loss: 0.3919 - accuracy: 0.8416\n",
            "Epoch 71/90\n",
            "250/250 [==============================] - 0s 2ms/step - loss: 0.3906 - accuracy: 0.8425\n",
            "Epoch 72/90\n",
            "250/250 [==============================] - 0s 2ms/step - loss: 0.3890 - accuracy: 0.8443\n",
            "Epoch 73/90\n",
            "250/250 [==============================] - 0s 2ms/step - loss: 0.3871 - accuracy: 0.8436\n",
            "Epoch 74/90\n",
            "250/250 [==============================] - 0s 2ms/step - loss: 0.3847 - accuracy: 0.8455\n",
            "Epoch 75/90\n",
            "250/250 [==============================] - 0s 2ms/step - loss: 0.3818 - accuracy: 0.8476\n",
            "Epoch 76/90\n",
            "250/250 [==============================] - 0s 2ms/step - loss: 0.3781 - accuracy: 0.8478\n",
            "Epoch 77/90\n",
            "250/250 [==============================] - 0s 2ms/step - loss: 0.3737 - accuracy: 0.8478\n",
            "Epoch 78/90\n",
            "250/250 [==============================] - 0s 2ms/step - loss: 0.3690 - accuracy: 0.8519\n",
            "Epoch 79/90\n",
            "250/250 [==============================] - 0s 2ms/step - loss: 0.3649 - accuracy: 0.8535\n",
            "Epoch 80/90\n",
            "250/250 [==============================] - 0s 2ms/step - loss: 0.3612 - accuracy: 0.8554\n",
            "Epoch 81/90\n",
            "250/250 [==============================] - 0s 2ms/step - loss: 0.3581 - accuracy: 0.8576\n",
            "Epoch 82/90\n",
            "250/250 [==============================] - 0s 2ms/step - loss: 0.3557 - accuracy: 0.8568\n",
            "Epoch 83/90\n",
            "250/250 [==============================] - 0s 2ms/step - loss: 0.3536 - accuracy: 0.8572\n",
            "Epoch 84/90\n",
            "250/250 [==============================] - 0s 2ms/step - loss: 0.3523 - accuracy: 0.8605\n",
            "Epoch 85/90\n",
            "250/250 [==============================] - 0s 2ms/step - loss: 0.3511 - accuracy: 0.8591\n",
            "Epoch 86/90\n",
            "250/250 [==============================] - 0s 2ms/step - loss: 0.3502 - accuracy: 0.8583\n",
            "Epoch 87/90\n",
            "250/250 [==============================] - 0s 2ms/step - loss: 0.3492 - accuracy: 0.8596\n",
            "Epoch 88/90\n",
            "250/250 [==============================] - 0s 2ms/step - loss: 0.3484 - accuracy: 0.8589\n",
            "Epoch 89/90\n",
            "250/250 [==============================] - 0s 2ms/step - loss: 0.3478 - accuracy: 0.8593\n",
            "Epoch 90/90\n",
            "250/250 [==============================] - 1s 2ms/step - loss: 0.3471 - accuracy: 0.8593\n"
          ]
        },
        {
          "output_type": "execute_result",
          "data": {
            "text/plain": [
              "<keras.callbacks.History at 0x7fe0ab77d690>"
            ]
          },
          "metadata": {},
          "execution_count": 20
        }
      ],
      "source": [
        "ann.fit(X_train, y_train, batch_size = 32, epochs = 90)"
      ]
    },
    {
      "cell_type": "markdown",
      "metadata": {
        "id": "tJj5k2MxZga3"
      },
      "source": [
        "## Part 4 - Making the predictions and evaluating the model"
      ]
    },
    {
      "cell_type": "markdown",
      "metadata": {
        "id": "84QFoqGYeXHL"
      },
      "source": [
        "### Predicting the result of a single observation"
      ]
    },
    {
      "cell_type": "markdown",
      "metadata": {
        "id": "CGRo3eacgDdC"
      },
      "source": [
        "**Task - 1**\n",
        "\n",
        "Use our ANN model to predict if the customer with the following informations will leave the bank:\n",
        "\n",
        "Geography: France\n",
        "\n",
        "Credit Score: 600\n",
        "\n",
        "Gender: Male\n",
        "\n",
        "Age: 40 years old\n",
        "\n",
        "Tenure: 3 years\n",
        "\n",
        "Balance: \\$ 60000\n",
        "\n",
        "Number of Products: 2\n",
        "\n",
        "Does this customer have a credit card? Yes\n",
        "\n",
        "Is this customer an Active Member: Yes\n",
        "\n",
        "Estimated Salary: \\$ 50000\n",
        "\n",
        "So, should we say goodbye to that customer?"
      ]
    },
    {
      "cell_type": "markdown",
      "metadata": {
        "id": "ZhU1LTgPg-kH"
      },
      "source": [
        "**Solution**"
      ]
    },
    {
      "cell_type": "code",
      "execution_count": null,
      "metadata": {
        "colab": {
          "base_uri": "https://localhost:8080/"
        },
        "id": "2d8IoCCkeWGL",
        "outputId": "ecf395b9-deb1-45fa-8fc1-e346f4d6c5db"
      },
      "outputs": [
        {
          "output_type": "stream",
          "name": "stdout",
          "text": [
            "1/1 [==============================] - 0s 163ms/step\n",
            "[[False]]\n"
          ]
        }
      ],
      "source": [
        "print(ann.predict(sc.transform([[1, 0, 0, 0, 1, 600, 40, 3, 60000, 2, 1, 1, 50000]])) > 0.5)"
      ]
    },
    {
      "cell_type": "markdown",
      "metadata": {
        "id": "wGjx94g2n7OV"
      },
      "source": [
        "Therefore, our ANN model predicts that this customer stays in the bank!\n",
        "\n",
        "**Important note 1:** Notice that the values of the features were all input in a double pair of square brackets. That's because the \"predict\" method always expects a 2D array as the format of its inputs. And putting our values into a double pair of square brackets makes the input exactly a 2D array.\n",
        "\n",
        "**Important note 2:** Notice also that the \"France\" country was not input as a string in the last column but as \"1, 0, 0\" in the first three columns. That's because of course the predict method expects the one-hot-encoded values of the state, and as we see in the first row of the matrix of features X, \"France\" was encoded as \"1, 0, 0\". And be careful to include these values in the first three columns, because the dummy variables are always created in the first columns."
      ]
    },
    {
      "cell_type": "markdown",
      "metadata": {
        "id": "u7yx47jPZt11"
      },
      "source": [
        "### Predicting the Test set results"
      ]
    },
    {
      "cell_type": "code",
      "execution_count": null,
      "metadata": {
        "colab": {
          "base_uri": "https://localhost:8080/"
        },
        "id": "nIyEeQdRZwgs",
        "outputId": "d4ce5f68-1809-44f1-b1a4-c69093fe9a8a"
      },
      "outputs": [
        {
          "output_type": "stream",
          "name": "stdout",
          "text": [
            "63/63 [==============================] - 0s 2ms/step\n",
            "[[0 0]\n",
            " [0 1]\n",
            " [0 0]\n",
            " ...\n",
            " [0 0]\n",
            " [0 0]\n",
            " [0 0]]\n"
          ]
        }
      ],
      "source": [
        "y_pred = ann.predict(X_test)\n",
        "y_pred = (y_pred > 0.5)\n",
        "print(np.concatenate((y_pred.reshape(len(y_pred),1), y_test.reshape(len(y_test),1)),1))"
      ]
    },
    {
      "cell_type": "markdown",
      "metadata": {
        "id": "o0oyfLWoaEGw"
      },
      "source": [
        "### Making the Confusion Matrix"
      ]
    },
    {
      "cell_type": "code",
      "execution_count": null,
      "metadata": {
        "colab": {
          "base_uri": "https://localhost:8080/"
        },
        "id": "ci6K_r6LaF6P",
        "outputId": "7f38af8e-85f2-4a4f-9915-41c9621a7150"
      },
      "outputs": [
        {
          "output_type": "stream",
          "name": "stdout",
          "text": [
            "[[1510   85]\n",
            " [ 192  213]]\n"
          ]
        },
        {
          "output_type": "execute_result",
          "data": {
            "text/plain": [
              "0.8615"
            ]
          },
          "metadata": {},
          "execution_count": 23
        }
      ],
      "source": [
        "from sklearn.metrics import confusion_matrix, accuracy_score\n",
        "cm = confusion_matrix(y_test, y_pred)\n",
        "print(cm)\n",
        "accuracy_score(y_test, y_pred)"
      ]
    },
    {
      "cell_type": "markdown",
      "metadata": {
        "id": "x6QCVP3504yE"
      },
      "source": [
        "#Evaluating Model with CAP Curve"
      ]
    },
    {
      "cell_type": "code",
      "execution_count": null,
      "metadata": {
        "colab": {
          "base_uri": "https://localhost:8080/"
        },
        "id": "zIaUQR9x0kop",
        "outputId": "bfd0e22b-2a52-48b8-e903-07cf5e55471e"
      },
      "outputs": [
        {
          "output_type": "stream",
          "name": "stdout",
          "text": [
            "2000\n",
            "405\n",
            "1595\n"
          ]
        }
      ],
      "source": [
        "total = len(y_test)\n",
        "print(total)\n",
        "\n",
        "class_1_count = np.sum(y_test)\n",
        "print(class_1_count)\n",
        "\n",
        "class_0_count = total - class_1_count\n",
        "print(class_0_count)\n"
      ]
    },
    {
      "cell_type": "code",
      "execution_count": null,
      "metadata": {
        "colab": {
          "base_uri": "https://localhost:8080/",
          "height": 489
        },
        "id": "Ekb4mkk407Yd",
        "outputId": "de2cc5b5-99df-4bb6-fb3b-31d9f738afde"
      },
      "outputs": [
        {
          "output_type": "stream",
          "name": "stdout",
          "text": [
            "63/63 [==============================] - 0s 2ms/step\n"
          ]
        },
        {
          "output_type": "display_data",
          "data": {
            "text/plain": [
              "<Figure size 640x480 with 1 Axes>"
            ],
            "image/png": "[encoded data removed]"
          },
          "metadata": {}
        }
      ],
      "source": [
        "# Random model\n",
        "plt.plot([0, total], [0, class_1_count], c = 'r', linestyle = '--', label = 'Random Model')\n",
        "\n",
        "# Perfect Model\n",
        "plt.plot([0, class_1_count, total], [0, class_1_count, class_1_count], c = 'grey', label = 'Perfect Model')\n",
        "\n",
        "# Point where vertical line will cut trained model\n",
        "index = int((50*total / 100))\n",
        "\n",
        "# Trained Model\n",
        "probs = ann.predict(X_test)\n",
        "model_y = [y for _, y in sorted(zip(probs, y_test), reverse = True)]\n",
        "y_values = np.append([0], np.cumsum(model_y))\n",
        "x_values = np.arange(0, total + 1)\n",
        "\n",
        "# 50% Verticcal line from x-axis\n",
        "plt.plot([index, index], [0, y_values[index]], c ='g', linestyle = '--')\n",
        "\n",
        "# Horizontal line to y-axis from prediction model\n",
        "plt.plot([0, index], [y_values[index], y_values[index]], c = 'g', linestyle = '--')\n",
        "\n",
        "# CAP Curve\n",
        "plt.plot(x_values, y_values, c = 'b', label = 'ANN')\n",
        "plt.title('Cumulative Accuracy Profile')\n",
        "plt.xlabel('Total observations')\n",
        "plt.ylabel('Class 1 observations')\n",
        "plt.legend(loc = 'lower right')\n",
        "plt.show()"
      ]
    },
    {
      "cell_type": "markdown",
      "metadata": {
        "id": "fOCsgts14cuN"
      },
      "source": [
        "# By using Area Under Curve"
      ]
    },
    {
      "cell_type": "code",
      "execution_count": null,
      "metadata": {
        "colab": {
          "base_uri": "https://localhost:8080/"
        },
        "id": "iGEy3frQ1AQg",
        "outputId": "823d2b3b-2d68-4647-fded-923a1b567267"
      },
      "outputs": [
        {
          "output_type": "stream",
          "name": "stdout",
          "text": [
            "Accuracy Rate for ANN: 0.7184565966175162\n"
          ]
        }
      ],
      "source": [
        "from sklearn.metrics import auc\n",
        "# Area under Random Model\n",
        "a = auc([0, total], [0, class_1_count])\n",
        "\n",
        "# Area between Perfect and Random Model\n",
        "aP = auc([0, class_1_count, total], [0, class_1_count, class_1_count]) - a\n",
        "\n",
        "# Area between Trained and Random Model\n",
        "aR = auc(x_values, y_values) - a\n",
        "\n",
        "print(\"Accuracy Rate for ANN: {}\".format(aR / aP))"
      ]
    },
    {
      "cell_type": "markdown",
      "metadata": {
        "id": "gNDh4MSU4bcJ"
      },
      "source": [
        "#By using 50% Plot"
      ]
    },
    {
      "cell_type": "code",
      "execution_count": null,
      "metadata": {
        "colab": {
          "base_uri": "https://localhost:8080/"
        },
        "id": "tmEYdePF1BBf",
        "outputId": "d1f29452-e888-47a7-f310-e0f51f6647d1"
      },
      "outputs": [
        {
          "output_type": "stream",
          "name": "stdout",
          "text": [
            "89.1358024691358\n"
          ]
        }
      ],
      "source": [
        "class_1_observed = y_values[index] * 100 / max(y_values)\n",
        "print(class_1_observed)"
      ]
    }
  ],
  "metadata": {
    "colab": {
      "provenance": []
    },
    "kernelspec": {
      "display_name": "Python 3",
      "name": "python3"
    }
  },
  "nbformat": 4,
  "nbformat_minor": 0
}